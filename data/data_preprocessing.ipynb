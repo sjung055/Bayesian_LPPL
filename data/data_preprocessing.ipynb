{
 "cells": [
  {
   "cell_type": "markdown",
   "metadata": {},
   "source": [
    "- data: S&P_500_Index_01021980_12301988_raw_data.csv  \n",
    "Change the column \"Date\" to datetime format"
   ]
  },
  {
   "cell_type": "code",
   "execution_count": 1,
   "metadata": {},
   "outputs": [],
   "source": [
    "import numpy as np\n",
    "import pandas as pd"
   ]
  },
  {
   "cell_type": "code",
   "execution_count": 2,
   "metadata": {},
   "outputs": [
    {
     "data": {
      "text/html": [
       "<div>\n",
       "<style scoped>\n",
       "    .dataframe tbody tr th:only-of-type {\n",
       "        vertical-align: middle;\n",
       "    }\n",
       "\n",
       "    .dataframe tbody tr th {\n",
       "        vertical-align: top;\n",
       "    }\n",
       "\n",
       "    .dataframe thead th {\n",
       "        text-align: right;\n",
       "    }\n",
       "</style>\n",
       "<table border=\"1\" class=\"dataframe\">\n",
       "  <thead>\n",
       "    <tr style=\"text-align: right;\">\n",
       "      <th></th>\n",
       "      <th>Date</th>\n",
       "      <th>Open</th>\n",
       "      <th>High</th>\n",
       "      <th>Low</th>\n",
       "      <th>Close</th>\n",
       "    </tr>\n",
       "  </thead>\n",
       "  <tbody>\n",
       "    <tr>\n",
       "      <th>0</th>\n",
       "      <td>12/30/88</td>\n",
       "      <td>277.72</td>\n",
       "      <td>279.78</td>\n",
       "      <td>277.72</td>\n",
       "      <td>277.72</td>\n",
       "    </tr>\n",
       "    <tr>\n",
       "      <th>1</th>\n",
       "      <td>12/29/88</td>\n",
       "      <td>279.40</td>\n",
       "      <td>279.42</td>\n",
       "      <td>277.08</td>\n",
       "      <td>279.40</td>\n",
       "    </tr>\n",
       "    <tr>\n",
       "      <th>2</th>\n",
       "      <td>12/28/88</td>\n",
       "      <td>277.08</td>\n",
       "      <td>277.55</td>\n",
       "      <td>276.17</td>\n",
       "      <td>277.08</td>\n",
       "    </tr>\n",
       "    <tr>\n",
       "      <th>3</th>\n",
       "      <td>12/27/88</td>\n",
       "      <td>276.83</td>\n",
       "      <td>278.09</td>\n",
       "      <td>276.74</td>\n",
       "      <td>276.83</td>\n",
       "    </tr>\n",
       "    <tr>\n",
       "      <th>4</th>\n",
       "      <td>12/23/88</td>\n",
       "      <td>277.87</td>\n",
       "      <td>277.99</td>\n",
       "      <td>276.87</td>\n",
       "      <td>277.87</td>\n",
       "    </tr>\n",
       "  </tbody>\n",
       "</table>\n",
       "</div>"
      ],
      "text/plain": [
       "       Date    Open    High     Low   Close\n",
       "0  12/30/88  277.72  279.78  277.72  277.72\n",
       "1  12/29/88  279.40  279.42  277.08  279.40\n",
       "2  12/28/88  277.08  277.55  276.17  277.08\n",
       "3  12/27/88  276.83  278.09  276.74  276.83\n",
       "4  12/23/88  277.87  277.99  276.87  277.87"
      ]
     },
     "execution_count": 2,
     "metadata": {},
     "output_type": "execute_result"
    }
   ],
   "source": [
    "snp_data = pd.read_csv('S&P_500_Index_01021980_12301988_raw_data.csv',\n",
    "                       header = 0)\n",
    "snp_data.head()"
   ]
  },
  {
   "cell_type": "code",
   "execution_count": 3,
   "metadata": {},
   "outputs": [
    {
     "data": {
      "text/plain": [
       "Index(['Date', 'Open', 'High', 'Low', 'Close'], dtype='object')"
      ]
     },
     "execution_count": 3,
     "metadata": {},
     "output_type": "execute_result"
    }
   ],
   "source": [
    "snp_data.columns = [col.strip() for col in snp_data.columns]\n",
    "snp_data.columns"
   ]
  },
  {
   "cell_type": "markdown",
   "metadata": {},
   "source": [
    "change the type of \"Date\" column to datetime format"
   ]
  },
  {
   "cell_type": "code",
   "execution_count": 4,
   "metadata": {},
   "outputs": [
    {
     "data": {
      "text/plain": [
       "Date      object\n",
       "Open     float64\n",
       "High     float64\n",
       "Low      float64\n",
       "Close    float64\n",
       "dtype: object"
      ]
     },
     "execution_count": 4,
     "metadata": {},
     "output_type": "execute_result"
    }
   ],
   "source": [
    "snp_data.dtypes"
   ]
  },
  {
   "cell_type": "code",
   "execution_count": 5,
   "metadata": {},
   "outputs": [
    {
     "data": {
      "text/plain": [
       "Date     datetime64[ns]\n",
       "Open            float64\n",
       "High            float64\n",
       "Low             float64\n",
       "Close           float64\n",
       "dtype: object"
      ]
     },
     "execution_count": 5,
     "metadata": {},
     "output_type": "execute_result"
    }
   ],
   "source": [
    "snp_data[\"Date\"] = pd.to_datetime(snp_data[\"Date\"], yearfirst=False,\n",
    "                                  format=\"%m/%d/%y\")\n",
    "snp_data.dtypes"
   ]
  },
  {
   "cell_type": "code",
   "execution_count": 6,
   "metadata": {},
   "outputs": [
    {
     "data": {
      "text/html": [
       "<div>\n",
       "<style scoped>\n",
       "    .dataframe tbody tr th:only-of-type {\n",
       "        vertical-align: middle;\n",
       "    }\n",
       "\n",
       "    .dataframe tbody tr th {\n",
       "        vertical-align: top;\n",
       "    }\n",
       "\n",
       "    .dataframe thead th {\n",
       "        text-align: right;\n",
       "    }\n",
       "</style>\n",
       "<table border=\"1\" class=\"dataframe\">\n",
       "  <thead>\n",
       "    <tr style=\"text-align: right;\">\n",
       "      <th></th>\n",
       "      <th>Date</th>\n",
       "      <th>Open</th>\n",
       "      <th>High</th>\n",
       "      <th>Low</th>\n",
       "      <th>Close</th>\n",
       "    </tr>\n",
       "  </thead>\n",
       "  <tbody>\n",
       "    <tr>\n",
       "      <th>0</th>\n",
       "      <td>1988-12-30</td>\n",
       "      <td>277.72</td>\n",
       "      <td>279.78</td>\n",
       "      <td>277.72</td>\n",
       "      <td>277.72</td>\n",
       "    </tr>\n",
       "    <tr>\n",
       "      <th>1</th>\n",
       "      <td>1988-12-29</td>\n",
       "      <td>279.40</td>\n",
       "      <td>279.42</td>\n",
       "      <td>277.08</td>\n",
       "      <td>279.40</td>\n",
       "    </tr>\n",
       "    <tr>\n",
       "      <th>2</th>\n",
       "      <td>1988-12-28</td>\n",
       "      <td>277.08</td>\n",
       "      <td>277.55</td>\n",
       "      <td>276.17</td>\n",
       "      <td>277.08</td>\n",
       "    </tr>\n",
       "    <tr>\n",
       "      <th>3</th>\n",
       "      <td>1988-12-27</td>\n",
       "      <td>276.83</td>\n",
       "      <td>278.09</td>\n",
       "      <td>276.74</td>\n",
       "      <td>276.83</td>\n",
       "    </tr>\n",
       "    <tr>\n",
       "      <th>4</th>\n",
       "      <td>1988-12-23</td>\n",
       "      <td>277.87</td>\n",
       "      <td>277.99</td>\n",
       "      <td>276.87</td>\n",
       "      <td>277.87</td>\n",
       "    </tr>\n",
       "    <tr>\n",
       "      <th>...</th>\n",
       "      <td>...</td>\n",
       "      <td>...</td>\n",
       "      <td>...</td>\n",
       "      <td>...</td>\n",
       "      <td>...</td>\n",
       "    </tr>\n",
       "    <tr>\n",
       "      <th>2271</th>\n",
       "      <td>1980-01-08</td>\n",
       "      <td>108.95</td>\n",
       "      <td>108.95</td>\n",
       "      <td>108.95</td>\n",
       "      <td>108.95</td>\n",
       "    </tr>\n",
       "    <tr>\n",
       "      <th>2272</th>\n",
       "      <td>1980-01-07</td>\n",
       "      <td>106.81</td>\n",
       "      <td>106.81</td>\n",
       "      <td>106.81</td>\n",
       "      <td>106.81</td>\n",
       "    </tr>\n",
       "    <tr>\n",
       "      <th>2273</th>\n",
       "      <td>1980-01-04</td>\n",
       "      <td>106.52</td>\n",
       "      <td>106.52</td>\n",
       "      <td>106.52</td>\n",
       "      <td>106.52</td>\n",
       "    </tr>\n",
       "    <tr>\n",
       "      <th>2274</th>\n",
       "      <td>1980-01-03</td>\n",
       "      <td>105.22</td>\n",
       "      <td>105.22</td>\n",
       "      <td>105.22</td>\n",
       "      <td>105.22</td>\n",
       "    </tr>\n",
       "    <tr>\n",
       "      <th>2275</th>\n",
       "      <td>1980-01-02</td>\n",
       "      <td>105.76</td>\n",
       "      <td>105.76</td>\n",
       "      <td>105.76</td>\n",
       "      <td>105.76</td>\n",
       "    </tr>\n",
       "  </tbody>\n",
       "</table>\n",
       "<p>2276 rows × 5 columns</p>\n",
       "</div>"
      ],
      "text/plain": [
       "           Date    Open    High     Low   Close\n",
       "0    1988-12-30  277.72  279.78  277.72  277.72\n",
       "1    1988-12-29  279.40  279.42  277.08  279.40\n",
       "2    1988-12-28  277.08  277.55  276.17  277.08\n",
       "3    1988-12-27  276.83  278.09  276.74  276.83\n",
       "4    1988-12-23  277.87  277.99  276.87  277.87\n",
       "...         ...     ...     ...     ...     ...\n",
       "2271 1980-01-08  108.95  108.95  108.95  108.95\n",
       "2272 1980-01-07  106.81  106.81  106.81  106.81\n",
       "2273 1980-01-04  106.52  106.52  106.52  106.52\n",
       "2274 1980-01-03  105.22  105.22  105.22  105.22\n",
       "2275 1980-01-02  105.76  105.76  105.76  105.76\n",
       "\n",
       "[2276 rows x 5 columns]"
      ]
     },
     "execution_count": 6,
     "metadata": {},
     "output_type": "execute_result"
    }
   ],
   "source": [
    "snp_data"
   ]
  },
  {
   "cell_type": "markdown",
   "metadata": {},
   "source": [
    "save the file in csv format"
   ]
  },
  {
   "cell_type": "code",
   "execution_count": 7,
   "metadata": {},
   "outputs": [],
   "source": [
    "snp_data.to_csv(\"./S&P_500_Index_01021980_12301988_preprocessed.csv\",\n",
    "                header = True, index=False)"
   ]
  },
  {
   "cell_type": "code",
   "execution_count": null,
   "metadata": {},
   "outputs": [],
   "source": []
  },
  {
   "cell_type": "code",
   "execution_count": 8,
   "metadata": {},
   "outputs": [
    {
     "data": {
      "text/html": [
       "<div>\n",
       "<style scoped>\n",
       "    .dataframe tbody tr th:only-of-type {\n",
       "        vertical-align: middle;\n",
       "    }\n",
       "\n",
       "    .dataframe tbody tr th {\n",
       "        vertical-align: top;\n",
       "    }\n",
       "\n",
       "    .dataframe thead th {\n",
       "        text-align: right;\n",
       "    }\n",
       "</style>\n",
       "<table border=\"1\" class=\"dataframe\">\n",
       "  <thead>\n",
       "    <tr style=\"text-align: right;\">\n",
       "      <th></th>\n",
       "      <th>Date</th>\n",
       "      <th>Open</th>\n",
       "      <th>High</th>\n",
       "      <th>Low</th>\n",
       "      <th>Close</th>\n",
       "    </tr>\n",
       "  </thead>\n",
       "  <tbody>\n",
       "    <tr>\n",
       "      <th>0</th>\n",
       "      <td>1980-01-02</td>\n",
       "      <td>105.76</td>\n",
       "      <td>105.76</td>\n",
       "      <td>105.76</td>\n",
       "      <td>105.76</td>\n",
       "    </tr>\n",
       "    <tr>\n",
       "      <th>1</th>\n",
       "      <td>1980-01-03</td>\n",
       "      <td>105.22</td>\n",
       "      <td>105.22</td>\n",
       "      <td>105.22</td>\n",
       "      <td>105.22</td>\n",
       "    </tr>\n",
       "    <tr>\n",
       "      <th>2</th>\n",
       "      <td>1980-01-04</td>\n",
       "      <td>106.52</td>\n",
       "      <td>106.52</td>\n",
       "      <td>106.52</td>\n",
       "      <td>106.52</td>\n",
       "    </tr>\n",
       "    <tr>\n",
       "      <th>3</th>\n",
       "      <td>1980-01-07</td>\n",
       "      <td>106.81</td>\n",
       "      <td>106.81</td>\n",
       "      <td>106.81</td>\n",
       "      <td>106.81</td>\n",
       "    </tr>\n",
       "    <tr>\n",
       "      <th>4</th>\n",
       "      <td>1980-01-08</td>\n",
       "      <td>108.95</td>\n",
       "      <td>108.95</td>\n",
       "      <td>108.95</td>\n",
       "      <td>108.95</td>\n",
       "    </tr>\n",
       "    <tr>\n",
       "      <th>...</th>\n",
       "      <td>...</td>\n",
       "      <td>...</td>\n",
       "      <td>...</td>\n",
       "      <td>...</td>\n",
       "      <td>...</td>\n",
       "    </tr>\n",
       "    <tr>\n",
       "      <th>2271</th>\n",
       "      <td>1988-12-23</td>\n",
       "      <td>277.87</td>\n",
       "      <td>277.99</td>\n",
       "      <td>276.87</td>\n",
       "      <td>277.87</td>\n",
       "    </tr>\n",
       "    <tr>\n",
       "      <th>2272</th>\n",
       "      <td>1988-12-27</td>\n",
       "      <td>276.83</td>\n",
       "      <td>278.09</td>\n",
       "      <td>276.74</td>\n",
       "      <td>276.83</td>\n",
       "    </tr>\n",
       "    <tr>\n",
       "      <th>2273</th>\n",
       "      <td>1988-12-28</td>\n",
       "      <td>277.08</td>\n",
       "      <td>277.55</td>\n",
       "      <td>276.17</td>\n",
       "      <td>277.08</td>\n",
       "    </tr>\n",
       "    <tr>\n",
       "      <th>2274</th>\n",
       "      <td>1988-12-29</td>\n",
       "      <td>279.40</td>\n",
       "      <td>279.42</td>\n",
       "      <td>277.08</td>\n",
       "      <td>279.40</td>\n",
       "    </tr>\n",
       "    <tr>\n",
       "      <th>2275</th>\n",
       "      <td>1988-12-30</td>\n",
       "      <td>277.72</td>\n",
       "      <td>279.78</td>\n",
       "      <td>277.72</td>\n",
       "      <td>277.72</td>\n",
       "    </tr>\n",
       "  </tbody>\n",
       "</table>\n",
       "<p>2276 rows × 5 columns</p>\n",
       "</div>"
      ],
      "text/plain": [
       "           Date    Open    High     Low   Close\n",
       "0    1980-01-02  105.76  105.76  105.76  105.76\n",
       "1    1980-01-03  105.22  105.22  105.22  105.22\n",
       "2    1980-01-04  106.52  106.52  106.52  106.52\n",
       "3    1980-01-07  106.81  106.81  106.81  106.81\n",
       "4    1980-01-08  108.95  108.95  108.95  108.95\n",
       "...         ...     ...     ...     ...     ...\n",
       "2271 1988-12-23  277.87  277.99  276.87  277.87\n",
       "2272 1988-12-27  276.83  278.09  276.74  276.83\n",
       "2273 1988-12-28  277.08  277.55  276.17  277.08\n",
       "2274 1988-12-29  279.40  279.42  277.08  279.40\n",
       "2275 1988-12-30  277.72  279.78  277.72  277.72\n",
       "\n",
       "[2276 rows x 5 columns]"
      ]
     },
     "execution_count": 8,
     "metadata": {},
     "output_type": "execute_result"
    }
   ],
   "source": [
    "snp_data.sort_values(by = 'Date', ascending = True).reset_index(drop=True)"
   ]
  },
  {
   "cell_type": "code",
   "execution_count": null,
   "metadata": {},
   "outputs": [],
   "source": []
  },
  {
   "cell_type": "code",
   "execution_count": null,
   "metadata": {},
   "outputs": [],
   "source": []
  }
 ],
 "metadata": {
  "kernelspec": {
   "display_name": "base",
   "language": "python",
   "name": "python3"
  },
  "language_info": {
   "codemirror_mode": {
    "name": "ipython",
    "version": 3
   },
   "file_extension": ".py",
   "mimetype": "text/x-python",
   "name": "python",
   "nbconvert_exporter": "python",
   "pygments_lexer": "ipython3",
   "version": "3.11.5"
  }
 },
 "nbformat": 4,
 "nbformat_minor": 2
}
